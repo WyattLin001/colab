{
  "nbformat": 4,
  "nbformat_minor": 0,
  "metadata": {
    "colab": {
      "provenance": [],
      "authorship_tag": "ABX9TyM2WSlxIfCSPKpHQbdnffHk",
      "include_colab_link": true
    },
    "kernelspec": {
      "name": "python3",
      "display_name": "Python 3"
    },
    "language_info": {
      "name": "python"
    }
  },
  "cells": [
    {
      "cell_type": "markdown",
      "metadata": {
        "id": "view-in-github",
        "colab_type": "text"
      },
      "source": [
        "<a href=\"https://colab.research.google.com/github/WyattLin001/colab/blob/main/Python_Project.ipynb\" target=\"_parent\"><img src=\"https://colab.research.google.com/assets/colab-badge.svg\" alt=\"Open In Colab\"/></a>"
      ]
    },
    {
      "cell_type": "markdown",
      "source": [
        "#6/17\n",
        "#Binary search"
      ],
      "metadata": {
        "id": "QIOwVm44ikJb"
      }
    },
    {
      "cell_type": "code",
      "execution_count": null,
      "metadata": {
        "colab": {
          "base_uri": "https://localhost:8080/"
        },
        "id": "njeJUSb4iJIW",
        "outputId": "ce5ffbd0-cffd-40a7-d126-46bbed81c421"
      },
      "outputs": [
        {
          "output_type": "stream",
          "name": "stdout",
          "text": [
            "Binary search:  (0.0015497207641601562, 'seconds')\n",
            "Naive search:  (0.023404359817504883, 'seconds')\n"
          ]
        }
      ],
      "source": [
        "import random\n",
        "import time\n",
        "\n",
        "def naive_search(l, target):\n",
        "  # for example l = [1, 3, 10, 12]\n",
        "  for i in range(len(l)):\n",
        "    if l[i] == target:\n",
        "      return i\n",
        "  return -1\n",
        "\n",
        "def binary_search(l, target, low = None, high = None):\n",
        "  if low is None:\n",
        "    low = 0\n",
        "  if high is None:\n",
        "    high = len(l) - 1\n",
        "  mid_point = (low+high)//2\n",
        "\n",
        "  if l[mid_point] == target:\n",
        "    return mid_point\n",
        "  elif target < l[mid_point]:\n",
        "    return binary_search(l, target, low , mid_point-1)\n",
        "  else: #target > l[mid_point]\n",
        "    return binary_search(l,target, mid_point+1, high)\n",
        "\n",
        "if __name__ == '__main__':\n",
        "  #l = [1, 3, 5, 10, 12]\n",
        "  target = 10\n",
        "  #print(naive_search(l, target))\n",
        "  #print(binary_search(l, target))\n",
        "\n",
        "  length = 1000\n",
        "\n",
        "  sorted_list = set()\n",
        "  while len(sorted_list) < length:\n",
        "    sorted_list.add(random.randint(-3*length, 3*length))\n",
        "  sorted_list = sorted(list(sorted_list))\n",
        "\n",
        "  start = time.time()\n",
        "  for target in sorted_list:\n",
        "    binary_search(sorted_list, target)\n",
        "  end = time.time()\n",
        "  print(\"Binary search: \", ((end - start), \"seconds\"))\n",
        "\n",
        "  start = time.time()\n",
        "  for target in sorted_list:\n",
        "    naive_search(sorted_list, target)\n",
        "  end = time.time()\n",
        "  print(\"Naive search: \", ((end - start), \"seconds\"))\n"
      ]
    },
    {
      "cell_type": "code",
      "source": [],
      "metadata": {
        "id": "Am9kjhgDfIk1"
      },
      "execution_count": null,
      "outputs": []
    }
  ]
}
