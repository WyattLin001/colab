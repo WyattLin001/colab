{
  "nbformat": 4,
  "nbformat_minor": 0,
  "metadata": {
    "colab": {
      "provenance": [],
      "authorship_tag": "ABX9TyOssw0enwEI7S9l/W87dcUm",
      "include_colab_link": true
    },
    "kernelspec": {
      "name": "python3",
      "display_name": "Python 3"
    },
    "language_info": {
      "name": "python"
    }
  },
  "cells": [
    {
      "cell_type": "markdown",
      "metadata": {
        "id": "view-in-github",
        "colab_type": "text"
      },
      "source": [
        "<a href=\"https://colab.research.google.com/github/WyattLin001/colab/blob/main/Python_Project_20240619.ipynb\" target=\"_parent\"><img src=\"https://colab.research.google.com/assets/colab-badge.svg\" alt=\"Open In Colab\"/></a>"
      ]
    },
    {
      "cell_type": "markdown",
      "source": [
        "#6/17\n",
        "#Binary search"
      ],
      "metadata": {
        "id": "QIOwVm44ikJb"
      }
    },
    {
      "cell_type": "code",
      "execution_count": null,
      "metadata": {
        "colab": {
          "base_uri": "https://localhost:8080/"
        },
        "id": "njeJUSb4iJIW",
        "outputId": "ce5ffbd0-cffd-40a7-d126-46bbed81c421"
      },
      "outputs": [
        {
          "output_type": "stream",
          "name": "stdout",
          "text": [
            "Binary search:  (0.0015497207641601562, 'seconds')\n",
            "Naive search:  (0.023404359817504883, 'seconds')\n"
          ]
        }
      ],
      "source": [
        "import random\n",
        "import time\n",
        "\n",
        "def naive_search(l, target):\n",
        "  # for example l = [1, 3, 10, 12]\n",
        "  for i in range(len(l)):\n",
        "    if l[i] == target:\n",
        "      return i\n",
        "  return -1\n",
        "\n",
        "def binary_search(l, target, low = None, high = None):\n",
        "  if low is None:\n",
        "    low = 0\n",
        "  if high is None:\n",
        "    high = len(l) - 1\n",
        "  mid_point = (low+high)//2\n",
        "\n",
        "  if l[mid_point] == target:\n",
        "    return mid_point\n",
        "  elif target < l[mid_point]:\n",
        "    return binary_search(l, target, low , mid_point-1)\n",
        "  else: #target > l[mid_point]\n",
        "    return binary_search(l,target, mid_point+1, high)\n",
        "\n",
        "if __name__ == '__main__':\n",
        "  #l = [1, 3, 5, 10, 12]\n",
        "  target = 10\n",
        "  #print(naive_search(l, target))\n",
        "  #print(binary_search(l, target))\n",
        "\n",
        "  length = 1000\n",
        "\n",
        "  sorted_list = set()\n",
        "  while len(sorted_list) < length:\n",
        "    sorted_list.add(random.randint(-3*length, 3*length))\n",
        "  sorted_list = sorted(list(sorted_list))\n",
        "\n",
        "  start = time.time()\n",
        "  for target in sorted_list:\n",
        "    binary_search(sorted_list, target)\n",
        "  end = time.time()\n",
        "  print(\"Binary search: \", ((end - start), \"seconds\"))\n",
        "\n",
        "  start = time.time()\n",
        "  for target in sorted_list:\n",
        "    naive_search(sorted_list, target)\n",
        "  end = time.time()\n",
        "  print(\"Naive search: \", ((end - start), \"seconds\"))\n"
      ]
    },
    {
      "cell_type": "markdown",
      "source": [
        "#6/18"
      ],
      "metadata": {
        "id": "c_FaCzbG2D1_"
      }
    },
    {
      "cell_type": "code",
      "source": [
        "def find_next_empty(puzzle):\n",
        "  for r in range(9):\n",
        "    for c in range(9):\n",
        "      if puzzle[r][c] == -1:\n",
        "        return r,c\n",
        "\n",
        "  return None, None\n",
        "\n",
        "\n",
        "def is_valid(puzzle, guess, row, col):\n",
        "  #要return true 說明他是有效的\n",
        "\n",
        "\n",
        "  #這裡是確認列\n",
        "  row_vals = puzzle[row]\n",
        "  if guess in row_vals:\n",
        "    return False\n",
        "\n",
        "  #這裡是確認行\n",
        "  col_vals = [puzzle[i][col] for i in range(9)]\n",
        "  if guess in col_vals:\n",
        "    return False\n",
        "\n",
        "\n",
        "  #這裡是確認9宮格\n",
        "  row_start = (row // 3) * 3\n",
        "  col_start = (col // 3) * 3\n",
        "\n",
        "  for r in range(row_start, row_start + 3):\n",
        "    for c in range(col_start, col_start + 3):\n",
        "      if puzzle[r][c] == guess:\n",
        "        return False\n",
        "  return True\n",
        "\n",
        "def solve_sudoku(puzzle):\n",
        "\n",
        "  # step 1：選一個位置給函數填入數字\n",
        "  row, col = find_next_empty(puzzle)\n",
        "\n",
        "  # step 1.1：\n",
        "  if row is None:\n",
        "    return True\n",
        "\n",
        "  #step 2: 有位置放的話，隨意放1-10的數字\n",
        "  for guess in range(1,10):\n",
        "\n",
        "    #Step3:check if this is valid guess\n",
        "\n",
        "    if is_valid(puzzle, guess, row, col):\n",
        "      puzzle [row][col] = guess\n",
        "\n",
        "      if solve_sudoku(puzzle):\n",
        "        return True\n",
        "\n",
        "    #step 5 : if 不是有效的或者沒有處理好puzzle，那就需要重新設計我的puzzle，再猜一次\n",
        "    puzzle[row][col] = -1\n",
        "\n",
        "\n",
        "def print_board(board):\n",
        "    for i, row in enumerate(board):\n",
        "        # 每三列加一條橫線\n",
        "        if i % 3 == 0 and i != 0:\n",
        "            print(\"-\" * 21)  # 3 區域 x 7 長度 = 21\n",
        "\n",
        "        row_str = \"\"\n",
        "        for j, val in enumerate(row):\n",
        "            # 每三欄加一條直線\n",
        "            if j % 3 == 0 and j != 0:\n",
        "                row_str += \"| \"\n",
        "\n",
        "            # 顯示內容\n",
        "            if val == -1:\n",
        "                row_str += \". \"\n",
        "            else:\n",
        "                row_str += f\"{val} \"\n",
        "        print(row_str)\n",
        "\n",
        "\n",
        "if __name__ == '__main__':\n",
        "  example_board = [\n",
        "      [3, 9, -1,  -1, 5, -1,  -1, -1, -1],\n",
        "      [-1, -1, -1,  2, -1, -1,  -1, -1, -5],\n",
        "      [-1, -1, -1,  7, 1, 9,  -1, 8, -1],\n",
        "\n",
        "      [-1, 5, -1,  -1, 6, 8,  -1, -1, -1],\n",
        "      [2, -1, 6,  -1, -1, 3,  -1, -1, -1],\n",
        "      [-1, -1, -1,  -1, -1, -1,  -1, -1, 4],\n",
        "\n",
        "      [5, -1, -1,  -1, -1, -1,  -1, -1, -1],\n",
        "      [6, 7, -1,  1, -1, 5,  -1, 4, -1],\n",
        "      [1, -1, 9,  -1, -1, -1,  2, -1, -1]\n",
        "  ]\n",
        "\n",
        "  if solve_sudoku(example_board):\n",
        "      print(\"✅ Sudoku solved:\")\n",
        "  else:\n",
        "      print(\"❌ This puzzle cannot be solved.\")\n",
        "\n",
        "  print_board(example_board)\n",
        "\n",
        "\n",
        "\n",
        "\n",
        "\n"
      ],
      "metadata": {
        "id": "Am9kjhgDfIk1",
        "colab": {
          "base_uri": "https://localhost:8080/"
        },
        "outputId": "176b663e-5665-434f-ee5d-3357e8046260"
      },
      "execution_count": 13,
      "outputs": [
        {
          "output_type": "stream",
          "name": "stdout",
          "text": [
            "✅ Sudoku solved:\n",
            "3 9 1 | 8 5 6 | 4 2 7 \n",
            "8 6 7 | 2 3 4 | 5 1 -5 \n",
            "4 2 5 | 7 1 9 | 3 8 6 \n",
            "---------------------\n",
            "7 5 4 | 9 6 8 | 1 3 2 \n",
            "2 1 6 | 4 7 3 | 8 9 5 \n",
            "9 8 3 | 5 2 1 | 6 7 4 \n",
            "---------------------\n",
            "5 4 8 | 3 9 2 | 7 6 1 \n",
            "6 7 2 | 1 8 5 | 9 4 3 \n",
            "1 3 9 | 6 4 7 | 2 5 8 \n"
          ]
        }
      ]
    },
    {
      "cell_type": "markdown",
      "source": [
        "#6/19"
      ],
      "metadata": {
        "id": "W6xImtEcIFmG"
      }
    },
    {
      "cell_type": "code",
      "source": [
        "def replace_word():\n",
        "\n",
        "  str = \"hi guys, i am wyatt, and hi hi hi \"\n",
        "  word_to_replace = input(\"Enter the word to replace: \")\n",
        "  word_replacement = input(\"Enter the word replacement: \")\n",
        "  print(str.replace(word_to_replace,word_replacement))\n",
        "\n",
        "replace_word()\n"
      ],
      "metadata": {
        "colab": {
          "base_uri": "https://localhost:8080/"
        },
        "id": "359yM5b3GvFl",
        "outputId": "301a0add-29b0-43d9-f6f6-b68c244ab7b9"
      },
      "execution_count": 7,
      "outputs": [
        {
          "output_type": "stream",
          "name": "stdout",
          "text": [
            "Enter the word to replace: wyatt\n",
            "Enter the word replacement: hank\n",
            "hi guys, i am hank, and hi hi hi \n"
          ]
        }
      ]
    },
    {
      "cell_type": "code",
      "source": [],
      "metadata": {
        "id": "oBrPN6zHJrVg"
      },
      "execution_count": null,
      "outputs": []
    }
  ]
}